{
  "cells": [
    {
      "cell_type": "markdown",
      "metadata": {
        "id": "9MuzGmK7bbyW"
      },
      "source": [
        "# **FIAP Pós-Tech - IA para Devs**"
      ]
    },
    {
      "cell_type": "markdown",
      "metadata": {
        "id": "cATDuRPV2JWZ"
      },
      "source": [
        "# **Tech Challenge - Fase 2**"
      ]
    },
    {
      "cell_type": "markdown",
      "metadata": {
        "id": "Zz3MOhQE26iH"
      },
      "source": [
        "## Grupo 14 (1IADT) - Alunos"
      ]
    },
    {
      "cell_type": "markdown",
      "metadata": {
        "id": "RKzsPFJRuyFV"
      },
      "source": [
        "* Marcelo Henriques da Fonseca - RM353865\n",
        "* Marcos Lopes da Silva Junior - RM353763\n",
        "* Ricardo Báfica Pontes - RM353866"
      ]
    },
    {
      "cell_type": "markdown",
      "metadata": {
        "id": "hjdDzTkU2fdP"
      },
      "source": [
        "# **Descrição do projeto**"
      ]
    },
    {
      "cell_type": "markdown",
      "metadata": {
        "id": "GbDLJo-03Ayu"
      },
      "source": [
        "## O problema"
      ]
    },
    {
      "cell_type": "markdown",
      "metadata": {
        "id": "EFl21Yx1vHNC"
      },
      "source": [
        "- O desafio consiste em projetar, implementar e testar um sistema que utilize Algoritmos Genéticos para otimizar uma função ou resolver um problema complexo de otimização. Você pode escolher problemas como otimização de rotas, alocação de recursos e design de redes neurais."
      ]
    },
    {
      "cell_type": "markdown",
      "metadata": {
        "id": "DRBB8Y0N3DQf"
      },
      "source": [
        "## Requisitos do projeto"
      ]
    },
    {
      "cell_type": "markdown",
      "metadata": {
        "id": "9iaIGamT2d1Z"
      },
      "source": [
        "1. **Definição do Problema:** escolha um problema real que possa ser resolvido por meio de otimização genética. Descreva o problema, os objetivos e os critérios.\n",
        "2. **Testes e resultados:** realize testes para demonstrar a eficácia do algoritmo. Compare os resultados obtidos com métodos de solução convencionais.\n",
        "3. **Documentação:** forneça uma documentação completa do projeto, incluindo descrições do problema, datalhes da implementação do algorítmo, análises de resultados e conclusões.  "
      ]
    },
    {
      "cell_type": "markdown",
      "metadata": {
        "id": "zk6kWKWdxIJA"
      },
      "source": [
        "# **Introdução**"
      ]
    },
    {
      "cell_type": "markdown",
      "metadata": {
        "id": "Jk_zJzPR3Ipa"
      },
      "source": [
        "## Descrição do problema"
      ]
    },
    {
      "cell_type": "markdown",
      "metadata": {
        "id": "69a555sJyJYx"
      },
      "source": [
        "Uma banda de música está planejando uma turnê por algumas das capitais do Brasil. O grupo quer visitar 11 capitais de diversos estados e retornar ao ponto de partida ao final da turnê."
      ]
    },
    {
      "cell_type": "markdown",
      "metadata": {
        "id": "g8JaCG-Km8f6"
      },
      "source": [
        "## Abordagem"
      ]
    },
    {
      "cell_type": "markdown",
      "metadata": {
        "id": "Ha_g0S0FnAEK"
      },
      "source": [
        "A fim de minimizar a distância percorrida e os custos da viagem, utilizaremos tanto um algorítmo genético quanto uma solução de força bruta para determinar uma melhor rota.\n",
        "\n",
        "Ao final, faremos uma comparação entre a eficiência dos dois modelos em resolver o problema."
      ]
    },
    {
      "cell_type": "markdown",
      "metadata": {
        "id": "QeG4-Qpj3MlP"
      },
      "source": [
        "## Os objetivos e os critérios de sucesso"
      ]
    },
    {
      "cell_type": "markdown",
      "metadata": {
        "id": "rmWtVPaezrru"
      },
      "source": [
        "1.   Escolher uma rota que minimize a distância total percorrida.\n",
        "2.   Não visitar nenhuma capital mais de uma vez.\n",
        "3.   Retornar ao ponto inicial ao final da turnê.\n",
        "\n"
      ]
    },
    {
      "cell_type": "markdown",
      "source": [
        "## Detalhes do Algoritmo Genético"
      ],
      "metadata": {
        "id": "7CRLiINPcd4z"
      }
    },
    {
      "cell_type": "markdown",
      "source": [
        "**Indivíduo** = conjunto de capitais (uma rota)\n",
        "\n",
        "**Fitness** = distância total da rota (quanto menor, melhor)\n",
        "\n",
        "**Objetivo** = encontrar uma rota que minimize a distância total a ser percorrida"
      ],
      "metadata": {
        "id": "6BdLFsBYcjsA"
      }
    },
    {
      "cell_type": "markdown",
      "metadata": {
        "id": "3yk3WcHL2qAs"
      },
      "source": [
        "# Dados iniciais"
      ]
    },
    {
      "cell_type": "code",
      "execution_count": 32,
      "metadata": {
        "id": "_1X2rWWcySks"
      },
      "outputs": [],
      "source": [
        "# Importanto bibliotecas\n",
        "import math\n",
        "import random\n",
        "import itertools\n",
        "import pandas as pd\n",
        "import numpy as np\n",
        "import copy\n",
        "import pygame\n",
        "import time"
      ]
    },
    {
      "cell_type": "markdown",
      "metadata": {
        "id": "Kkm34gQFn1Zg"
      },
      "source": [
        "No bloco abaixo, definimos uma lista de capitais que serão visitadas pela banda."
      ]
    },
    {
      "cell_type": "code",
      "execution_count": 33,
      "metadata": {
        "colab": {
          "base_uri": "https://localhost:8080/"
        },
        "id": "jXcof7C38fXN",
        "outputId": "39767db1-66bd-4a5d-e1c5-3a18de650870"
      },
      "outputs": [
        {
          "output_type": "stream",
          "name": "stdout",
          "text": [
            "((-3.119, -60.0217), (-12.9714, -38.5014), (-3.7172, -38.5434), (-15.7801, -47.9292), (-16.6869, -49.2643), (-19.9173, -43.9346), (-25.4284, -49.2733), (-22.9068, -43.1729), (-30.0346, -51.2177), (-23.5505, -46.6333), (-10.1853, -48.3277))\n"
          ]
        }
      ],
      "source": [
        "# Definindo as capitais e suas coordenadas (latitude, longitude)\n",
        "\n",
        "capitais = {\n",
        "    # 'Rio Branco': (-9.974, -67.8243),\n",
        "    # 'Maceió': (-9.6498, -35.7089),\n",
        "    # 'Macapá': (0.0349, -51.0694),\n",
        "    'Manaus': (-3.1190, -60.0217),\n",
        "    'Salvador': (-12.9714, -38.5014),\n",
        "    'Fortaleza': (-3.7172, -38.5434),\n",
        "    'Brasília': (-15.7801, -47.9292),\n",
        "    # 'Vitória': (-20.3155, -40.3128),\n",
        "    'Goiânia': (-16.6869, -49.2643),\n",
        "    # 'São Luís': (-2.5307, -44.3068),\n",
        "    # 'Cuiabá': (-15.6010, -56.0974),\n",
        "    # 'Campo Grande': (-20.4486, -54.6295),\n",
        "    'Belo Horizonte': (-19.9173, -43.9346),\n",
        "    # 'Belém': (-1.4558, -48.4902),\n",
        "    # 'João Pessoa': (-7.1150, -34.8641),\n",
        "    'Curitiba': (-25.4284, -49.2733),\n",
        "    # 'Recife': (-8.0476, -34.8770),\n",
        "    # 'Teresina': (-5.0919, -42.8034),\n",
        "    'Rio de Janeiro': (-22.9068, -43.1729),\n",
        "    # 'Natal': (-5.7945, -35.2110),\n",
        "    'Porto Alegre': (-30.0346, -51.2177),\n",
        "    # 'Porto Velho': (-8.7611, -63.9004),\n",
        "    # 'Boa Vista': (2.8235, -60.6758),\n",
        "    # 'Florianópolis': (-27.5954, -48.5480),\n",
        "    'São Paulo': (-23.5505, -46.6333),\n",
        "    # 'Aracaju': (-10.9472, -37.0731),\n",
        "     'Palmas': (-10.1853, -48.3277)\n",
        "}\n",
        "\n",
        "# Convertendo para uma tupla de localizações\n",
        "localizacoes_cidades = tuple(capitais.values())\n",
        "\n",
        "# Visualização da tupla\n",
        "print(localizacoes_cidades)"
      ]
    },
    {
      "cell_type": "markdown",
      "metadata": {
        "id": "PCSN-Lf0klUK"
      },
      "source": [
        "# Funções"
      ]
    },
    {
      "cell_type": "markdown",
      "metadata": {
        "id": "vBqxSQcjoZ27"
      },
      "source": [
        "Função que calcula a distância entre uma cidade1 e uma cidade2 levando em conta a curvatura do planeta Terra."
      ]
    },
    {
      "cell_type": "code",
      "execution_count": 34,
      "metadata": {
        "id": "LKATv3saw-mE"
      },
      "outputs": [],
      "source": [
        "# função para calcular a distância entre duas cidades dadas suas coordenadas (latitude e longitude)\n",
        "def calcula_distancia(cidade1, cidade2):\n",
        "    # extrai as coordenadas das cidades, x = latitude e y = logitude\n",
        "    x1, y1 = cidade1\n",
        "    x2, y2 = cidade2\n",
        "\n",
        "    # Fórmula de Haversine\n",
        "    # a = sin²(Δφ/2) + cos φ1 ⋅ cos φ2 ⋅ sin²(Δλ/2)\n",
        "    # c = 2 ⋅ atan2( √a, √(1−a) )\n",
        "    # d = R ⋅ c\n",
        "    # onde φ é a latitude, λ a longitude, R é o raio da Terra\n",
        "    # R = 6371 km\n",
        "    R = 6371\n",
        "    a = math.sin((y2 - y1) / 2) ** 2 + math.cos(y1) * math.cos(y2) * math.sin((x2 - x1) / 2) ** 2\n",
        "    c = 2 * math.atan2(math.sqrt(a), math.sqrt(1 - a))\n",
        "    d = R * c\n",
        "\n",
        "    return d"
      ]
    },
    {
      "cell_type": "markdown",
      "metadata": {
        "id": "3u5QVRG8p7U3"
      },
      "source": [
        "Função para gerar uma população inicial aleatória para a utilização no algoritmo genético."
      ]
    },
    {
      "cell_type": "code",
      "execution_count": 35,
      "metadata": {
        "id": "tJD2nztly1Bo"
      },
      "outputs": [],
      "source": [
        "# população inicial aleatória\n",
        "def gera_populacao_aleatoria(tamanho_populacao: int):\n",
        "\n",
        "    populacao = []\n",
        "    for _ in range(tamanho_populacao):\n",
        "        populacao.append(random.sample(localizacoes_cidades, len(localizacoes_cidades)))\n",
        "\n",
        "    return populacao"
      ]
    },
    {
      "cell_type": "markdown",
      "metadata": {
        "id": "QXfAN3AIqHtN"
      },
      "source": [
        "Função para gerar uma população inicial utilizando KNN (K-Nearest Neighbors) para a utilização no algoritmo genético.\n",
        "\n",
        "Como a população inicial segue um metódo que busca minimizar distâncias ao invés de ser aleatória, ela acaba sendo mais otimizada e ajuda nosso algoritmo genético a chegar em resultados melhores mais rapidamente.\n",
        "\n",
        "Não está sendo utilizada no momento, mas permanece no notebook com propósito didático e para testes."
      ]
    },
    {
      "cell_type": "code",
      "execution_count": 36,
      "metadata": {
        "id": "gF42Yw0A-P1e"
      },
      "outputs": [],
      "source": [
        "# população inicial usando KNN\n",
        "def gera_populacao_knn(tamanho_populacao: int):\n",
        "\n",
        "    populacao = []\n",
        "    for _ in range(tamanho_populacao):\n",
        "        cidade_inicial = random.choice(localizacoes_cidades)\n",
        "        solucao = [cidade_inicial]\n",
        "        cidades_restantes = set(localizacoes_cidades) - {cidade_inicial}\n",
        "        while cidades_restantes:\n",
        "            ultima_cidade = solucao[-1]\n",
        "            proxima_cidade = min(cidades_restantes, key=lambda x: calcula_distancia(ultima_cidade, x))\n",
        "            solucao.append(proxima_cidade)\n",
        "            cidades_restantes.remove(proxima_cidade)\n",
        "        populacao.append(solucao)\n",
        "\n",
        "    return populacao"
      ]
    },
    {
      "cell_type": "markdown",
      "metadata": {
        "id": "EK2BarusrYCG"
      },
      "source": [
        "Função que calcula a adaptação de um indivíduo de uma população, retornando a distância total de sua rota.\n",
        "\n",
        "Isso nos dá um bom parâmetro de comparação para que o algoritmo possa achar as melhores soluções.\n",
        "\n",
        "Neste caso, os indivíduos melhores adaptados são aqueles que possuem uma distância total menor."
      ]
    },
    {
      "cell_type": "code",
      "execution_count": 37,
      "metadata": {
        "id": "cVto7xLpzPt7"
      },
      "outputs": [],
      "source": [
        "# adaptação do indivíduo\n",
        "def calcula_adaptacao(individuo):\n",
        "\n",
        "    distancia_total = 0\n",
        "\n",
        "    n = len(individuo)\n",
        "    for i in range(n):\n",
        "        distancia_total += calcula_distancia(individuo[i], individuo[(i + 1) % n])\n",
        "\n",
        "    return distancia_total"
      ]
    },
    {
      "cell_type": "markdown",
      "metadata": {
        "id": "Ha34aZDO5WS_"
      },
      "source": [
        "Função de cruzamento que combina duas soluções (ascendentes) para gerar duas novas soluções (descendentes).\n",
        "\n",
        "O retorno de dois descendentes aumenta a diversidade genética na população, o que ajuda o algoritmo a explorar um maior número de soluções possíveis.\n",
        "Ele também faz com que o algoritmo evolua mais rapidamente em direção a melhores soluções e ajuda a manter o tamanho da população constante."
      ]
    },
    {
      "cell_type": "code",
      "execution_count": 38,
      "metadata": {
        "id": "mMoEDjRlzmbN"
      },
      "outputs": [],
      "source": [
        "# cruzamento de indivíduos\n",
        "def cruzamento(ascendente1, ascendente2):\n",
        "    tam = len(ascendente1)\n",
        "\n",
        "    # Escolha aleatória dos pontos de corte\n",
        "    ini, fim = sorted(random.sample(range(tam), 2))\n",
        "\n",
        "    # Criação de listas vazias para os descendentes\n",
        "    descendente1 = [None] * tam\n",
        "    descendente2 = [None] * tam\n",
        "\n",
        "    # Copia o segmento entre os pontos de corte dos ascendentes para os descendentes\n",
        "    descendente1[ini:tam+1] = ascendente1[ini:tam+1]\n",
        "    descendente2[ini:tam+1] = ascendente2[ini:tam+1]\n",
        "\n",
        "    # Preenche o restante das cidades nos descendentes\n",
        "    posicoes_faltantes1 = [i for i in range(tam) if not (ini <= i <= fim)]\n",
        "    posicoes_faltantes2 = [i for i in range(tam) if not (ini <= i <= fim)]\n",
        "\n",
        "    posicao_atual1, posicao_atual2 = 0, 0\n",
        "\n",
        "    for cidade in ascendente2:\n",
        "        if cidade not in descendente1:\n",
        "            while descendente1[posicoes_faltantes1[posicao_atual1]] is not None:\n",
        "                posicao_atual1 += 1\n",
        "            descendente1[posicoes_faltantes1[posicao_atual1]] = cidade\n",
        "            posicao_atual1 += 1\n",
        "\n",
        "    for cidade in ascendente1:\n",
        "        if cidade not in descendente2:\n",
        "            while descendente2[posicoes_faltantes2[posicao_atual2]] is not None:\n",
        "                posicao_atual2 += 1\n",
        "            descendente2[posicoes_faltantes2[posicao_atual2]] = cidade\n",
        "            posicao_atual2 += 1\n",
        "\n",
        "    return descendente1, descendente2"
      ]
    },
    {
      "cell_type": "markdown",
      "metadata": {
        "id": "mXL9FTD8ZpZi"
      },
      "source": [
        "A seleção de ascendentes por probabilidade busca que indivíduos mais adaptados sejam selecionados como ascendentes.\n",
        "\n",
        "Essa seleção é feita de forma bastante rápida, mas tem um fator de aleatoriedade que pode levar o algoritmo a demorar mais a chegar em um resultado ótimo.\n",
        "\n",
        "Não está sendo utilizada no momento, mas permanece no notebook com propósito didático e para testes."
      ]
    },
    {
      "cell_type": "code",
      "execution_count": 39,
      "metadata": {
        "id": "KYVHG1dxZoxl"
      },
      "outputs": [],
      "source": [
        "def seleciona_ascendentes_por_probabilidade(populacao, adaptacao_populacao, num_ascendentes=2):\n",
        "    # indivíduos com melhor adaptação (menor distância total) têm maior probabilidade de reprodução\n",
        "    probabilidade = 1 / np.array(adaptacao_populacao)\n",
        "\n",
        "    # seleção aleatória de ascendentes\n",
        "    ascendente1, ascendente2 = random.choices(populacao, weights=probabilidade, k=num_ascendentes)\n",
        "\n",
        "    return ascendente1, ascendente2"
      ]
    },
    {
      "cell_type": "markdown",
      "metadata": {
        "id": "vErNuj-GFrP_"
      },
      "source": [
        "A seleção de ascendentes por ranking garante que indivíduos mais adaptados sejam selecionados como ascendentes, permitindo que o algoritmo converja mais rapidamente para soluções melhores.\n",
        "Essa seleção acaba sendo um pouco mais demorada que a aleatório, visto que há uma ordenação. Porém, em casos de problemas maiores, esse ligeiro aumento do tempo de seleção não é tão significativo, visto que nos ajuda a chegar em resultados melhores.\n",
        "\n",
        "A seleção por probabilidade também aumenta as chances de indivíduos melhores adaptados serem selecionados nessa metade superior.\n",
        "\n",
        "O bloco abaixo recebe uma população ordenada pelos indivíduos mais adaptados (menor distância) e seleciona (com uma probabilidade maior para indivíduos com melhor adaptação) indíviduos da metade superior para serem ascendentes. Isso garante uma maior diversidade genética ao invés de escolhermos estritamente os que estão no topo da lista.\n",
        "\n",
        "Esse método combina os benefícios da seleção por ranking com a seleção por probabilidade, ainda permitindo a possibilidade de seleção de indivíduos menos adaptados para manter a diversidade genética. Esse método é conhecido como Seleção por Torneio com Probabilidade de Seleção."
      ]
    },
    {
      "cell_type": "code",
      "execution_count": 40,
      "metadata": {
        "id": "8Jx8vr0X_YlL"
      },
      "outputs": [],
      "source": [
        "# Selecionar os ascendentes por ranking\n",
        "def seleciona_ascendentes_por_ranking(populacao_ordenada, adaptacao_populacao, num_ascendentes=2):\n",
        "    # Seleciona a metade superior dos indivíduos\n",
        "    metade_superior_populacao = populacao_ordenada[:len(populacao_ordenada)//2]\n",
        "    metade_superior_adaptacao = adaptacao_populacao[:len(adaptacao_populacao)//2]\n",
        "\n",
        "    # Calcular as probabilidades inversas das adaptações\n",
        "    probabilidade = 1 / np.array(metade_superior_adaptacao)\n",
        "\n",
        "    # Normalizar as probabilidades para somarem 1\n",
        "    probabilidade /= np.sum(probabilidade)\n",
        "\n",
        "    # Seleciona os ascendentes com base no ranking\n",
        "    ascendentes = random.choices(metade_superior_populacao, weights=probabilidade, k=num_ascendentes)\n",
        "\n",
        "    return ascendentes"
      ]
    },
    {
      "cell_type": "markdown",
      "metadata": {
        "id": "J2fcnTCa8KOY"
      },
      "source": [
        "Função de mutação que ajuda a introduzir variação em uma população, evitando que ela fique presa em ótimos locais e fazendo com que o algoritmo explore novas soluções. Duas abordagens foram avaliadas:\n",
        "\n",
        "1. mutação aleatória: o indivíduo é mutado com a troca aleatória de duas cidades.\n",
        "\n",
        "2. mutação por embaralhamento: envolve selecionar uma subsequência e embaralhá-la aleatoriamente. Isso mantém a ordem relativa dos elementos fora da subsequência, mas muda a ordem dentro da subsequência.\n",
        "\n",
        "Diversidade: A mutação por troca aleatória de duas cidades é bastante rápido e tende a manter a diversidade das soluções, pois pode explorar diferentes partes do espaço de busca.\n",
        "\n",
        "Eficiência: A mutação por embaralhamento pode ser mais lenta em alguns casos, especialmente se a subsequência a ser embaralhada for grande, mas tende a oferecer melhores mudanças na solução.\n",
        "\n",
        "Optamos por aplicar ambas as mutações, uma para cada um dos dois individuos gerados no cruzamnento."
      ]
    },
    {
      "cell_type": "code",
      "execution_count": 41,
      "metadata": {
        "id": "SnuEIvLlz6FH"
      },
      "outputs": [],
      "source": [
        "# mutação aleatória de um indivíduo\n",
        "def mutacao_aleatoria(individuo_original, probabilidade_mutacao):\n",
        "    individuo_mutado = copy.deepcopy(individuo_original)\n",
        "    if random.random() > probabilidade_mutacao:\n",
        "        return individuo_mutado\n",
        "\n",
        "    # escolha aleatória das cidades\n",
        "    posicao1, posicao2 = sorted(random.sample(range(len(individuo_original)), 2))\n",
        "\n",
        "    # troca as posições\n",
        "    individuo_mutado[posicao1], individuo_mutado[posicao2] = individuo_mutado[posicao2], individuo_mutado[posicao1]\n",
        "\n",
        "    return individuo_mutado"
      ]
    },
    {
      "cell_type": "code",
      "execution_count": 42,
      "metadata": {
        "id": "ohwW_yL7f-2O"
      },
      "outputs": [],
      "source": [
        "# mutação por embaralhamento de um indivíduo\n",
        "def mutacao_embaralhamento(individuo_original, probabilidade_mutacao):\n",
        "    individuo_mutado = copy.deepcopy(individuo_original)\n",
        "    if random.random() > probabilidade_mutacao:\n",
        "        return individuo_mutado\n",
        "\n",
        "    # Seleciona dois índices aleatórios\n",
        "    posicao1, posicao2 = sorted(random.sample(range(len(individuo_original)), 2))\n",
        "\n",
        "    # Embaralha a subsequência entre os índices\n",
        "    subseq = individuo_mutado[posicao1:posicao2+1]\n",
        "    random.shuffle(subseq)\n",
        "    individuo_mutado[posicao1:posicao2+1] = subseq\n",
        "\n",
        "    return individuo_mutado\n"
      ]
    },
    {
      "cell_type": "markdown",
      "metadata": {
        "id": "XrKohnNisyDO"
      },
      "source": [
        "Função que ordena uma população pela adaptação de cada um de seus indivíduos de forma crescente, ou seja, os indivíduos que apresentam menor distância total são os primeiros do vetor."
      ]
    },
    {
      "cell_type": "code",
      "execution_count": 43,
      "metadata": {
        "id": "XgukaNK40GUj"
      },
      "outputs": [],
      "source": [
        "# ordena a população por melhor adaptação\n",
        "def ordena_populacao(populacao, adaptacao):\n",
        "    listas_combinadas = list(zip(populacao, adaptacao))\n",
        "    listas_combinadas_ordenadas = sorted(listas_combinadas, key=lambda x: x[1])\n",
        "    populacao_ordenada_por_adaptacao, adaptacao_ordenada = zip(*listas_combinadas_ordenadas)\n",
        "\n",
        "    return populacao_ordenada_por_adaptacao, adaptacao_ordenada"
      ]
    },
    {
      "cell_type": "markdown",
      "metadata": {
        "id": "oSnIb20ykMxT"
      },
      "source": [
        "# Algoritmo Genético"
      ]
    },
    {
      "cell_type": "markdown",
      "metadata": {
        "id": "oYJ8_0M384m4"
      },
      "source": [
        "Definição de alguns parâmetros importantes para a execução do algoritmo genético.\n",
        "\n",
        "\"TAMANHO_POPULACAO\" define o número de indíviduos de uma população em cada geração. Um tamanho de população maior leva a uma diversidade genética maior e uma exploração de mais possíveis soluções, mas aumenta o custo computacional.\n",
        "\n",
        "\"MAXIMO_DE_GERACOES\" define um limite para o número de gerações que o algoritmo genético vai executar antes de parar, evitando execuções excessivamente longas.\n",
        "\n",
        "\"PROBABILIDADE_DE_MUTACAO\" define a probabilidade um indivíduo sofrer mutação. Uma probabilidade alta pode aumentar a diversidade genética, mas pode causar muita aleatoriedade. Uma probabilidade baixa, por outro lado, pode fazer com que o algoritmo fique estagnado em uma solução subótima.\n",
        "\n",
        "\"NUMERO_GERACOES_SEM_MELHORA_MAXIMO\" define um limite para quantas gerações o algoritmo continuará executando sem encontrar soluções melhores. Ajuda a diminuir o tempo de execução e evitar que o algoritmo continue executando sem progresso significativo. Pode diminuir a capacidade do algoritmo de encontrar boas soluções se for um número muito baixo."
      ]
    },
    {
      "cell_type": "code",
      "execution_count": 44,
      "metadata": {
        "id": "ORvDDNUv0cDb"
      },
      "outputs": [],
      "source": [
        "# parâmetros de controle\n",
        "TAMANHO_POPULACAO = 200\n",
        "MAXIMO_DE_GERACOES = 1000\n",
        "\n",
        "PROBABILIDADE_DE_MUTACAO = 0.6\n",
        "\n",
        "NUMERO_GERACOES_SEM_MELHORA_MAXIMO = 200\n",
        "\n",
        "# geração para população inicial\n",
        "populacao = gera_populacao_aleatoria(TAMANHO_POPULACAO)\n",
        "#populacao = gera_populacao_knn(TAMANHO_POPULACAO)"
      ]
    },
    {
      "cell_type": "markdown",
      "metadata": {
        "id": "8uJJul4H_mvW"
      },
      "source": [
        "Execução do algoritmo genético, juntando todos os passos tomados até agora em busca de uma solução pra o problema."
      ]
    },
    {
      "cell_type": "code",
      "execution_count": 45,
      "metadata": {
        "colab": {
          "base_uri": "https://localhost:8080/"
        },
        "id": "gQj1F1Uw0pys",
        "outputId": "a74a4195-98e4-4e20-bb8a-14e6405cfda4"
      },
      "outputs": [
        {
          "output_type": "stream",
          "name": "stdout",
          "text": [
            "Geração: 001 | adaptação: 72722.84796596372\n",
            "Geração: 002 | adaptação: 68639.72819587219\n",
            "Geração: 003 | adaptação: 68639.72819587219\n",
            "Geração: 004 | adaptação: 68639.72819587219\n",
            "Geração: 005 | adaptação: 68639.72819587219\n",
            "Geração: 006 | adaptação: 62511.0932000106\n",
            "Geração: 007 | adaptação: 62511.0932000106\n",
            "Geração: 008 | adaptação: 62511.0932000106\n",
            "Geração: 009 | adaptação: 62511.0932000106\n",
            "Geração: 010 | adaptação: 59227.316348876586\n",
            "Geração: 011 | adaptação: 59227.316348876586\n",
            "Geração: 012 | adaptação: 59227.316348876586\n",
            "Geração: 013 | adaptação: 56417.47953703359\n",
            "Geração: 014 | adaptação: 56417.47953703359\n",
            "Geração: 015 | adaptação: 53133.70268589958\n",
            "Geração: 016 | adaptação: 53133.70268589958\n",
            "Geração: 017 | adaptação: 53133.70268589958\n",
            "Geração: 018 | adaptação: 53133.70268589958\n",
            "Geração: 019 | adaptação: 53133.70268589958\n",
            "Geração: 020 | adaptação: 53133.70268589958\n",
            "Geração: 021 | adaptação: 53133.70268589958\n",
            "Geração: 022 | adaptação: 53133.70268589958\n",
            "Geração: 023 | adaptação: 53133.70268589958\n",
            "Geração: 024 | adaptação: 53133.70268589958\n",
            "Geração: 025 | adaptação: 53133.70268589958\n",
            "Geração: 026 | adaptação: 53133.70268589958\n",
            "Geração: 027 | adaptação: 53133.70268589958\n",
            "Geração: 028 | adaptação: 53133.70268589958\n",
            "Geração: 029 | adaptação: 53133.70268589958\n",
            "Geração: 030 | adaptação: 53133.70268589958\n",
            "Geração: 031 | adaptação: 53133.70268589958\n",
            "Geração: 032 | adaptação: 53133.70268589958\n",
            "Geração: 033 | adaptação: 53133.70268589958\n",
            "Geração: 034 | adaptação: 53133.70268589958\n",
            "Geração: 035 | adaptação: 53133.70268589958\n",
            "Geração: 036 | adaptação: 53133.70268589958\n",
            "Geração: 037 | adaptação: 53133.70268589958\n",
            "Geração: 038 | adaptação: 53133.70268589958\n",
            "Geração: 039 | adaptação: 53133.70268589958\n",
            "Geração: 040 | adaptação: 53133.70268589958\n",
            "Geração: 041 | adaptação: 53133.70268589958\n",
            "Geração: 042 | adaptação: 53133.70268589958\n",
            "Geração: 043 | adaptação: 53133.70268589958\n",
            "Geração: 044 | adaptação: 53133.70268589958\n",
            "Geração: 045 | adaptação: 53133.70268589958\n",
            "Geração: 046 | adaptação: 53133.70268589958\n",
            "Geração: 047 | adaptação: 53133.70268589958\n",
            "Geração: 048 | adaptação: 53133.70268589958\n",
            "Geração: 049 | adaptação: 53133.70268589958\n",
            "Geração: 050 | adaptação: 53133.70268589958\n",
            "Geração: 051 | adaptação: 53133.70268589958\n",
            "Geração: 052 | adaptação: 53133.70268589958\n",
            "Geração: 053 | adaptação: 53133.70268589958\n",
            "Geração: 054 | adaptação: 53133.70268589958\n",
            "Geração: 055 | adaptação: 53133.70268589958\n",
            "Geração: 056 | adaptação: 53133.70268589958\n",
            "Geração: 057 | adaptação: 53133.70268589958\n",
            "Geração: 058 | adaptação: 53133.70268589958\n",
            "Geração: 059 | adaptação: 53133.70268589958\n",
            "Geração: 060 | adaptação: 53133.70268589958\n",
            "Geração: 061 | adaptação: 53133.70268589958\n",
            "Geração: 062 | adaptação: 53133.70268589958\n",
            "Geração: 063 | adaptação: 53133.70268589958\n",
            "Geração: 064 | adaptação: 53133.70268589958\n",
            "Geração: 065 | adaptação: 53133.70268589958\n",
            "Geração: 066 | adaptação: 53133.70268589958\n",
            "Geração: 067 | adaptação: 53133.70268589958\n",
            "Geração: 068 | adaptação: 53133.70268589958\n",
            "Geração: 069 | adaptação: 53133.70268589958\n",
            "Geração: 070 | adaptação: 53133.70268589958\n",
            "Geração: 071 | adaptação: 53133.70268589958\n",
            "Geração: 072 | adaptação: 53133.70268589958\n",
            "Geração: 073 | adaptação: 53133.70268589958\n",
            "Geração: 074 | adaptação: 53133.70268589958\n",
            "Geração: 075 | adaptação: 53133.70268589958\n",
            "Geração: 076 | adaptação: 53133.70268589958\n",
            "Geração: 077 | adaptação: 53133.70268589958\n",
            "Geração: 078 | adaptação: 53133.70268589958\n",
            "Geração: 079 | adaptação: 53133.70268589958\n",
            "Geração: 080 | adaptação: 53133.70268589958\n",
            "Geração: 081 | adaptação: 53133.70268589958\n",
            "Geração: 082 | adaptação: 53133.70268589958\n",
            "Geração: 083 | adaptação: 53133.70268589958\n",
            "Geração: 084 | adaptação: 53133.70268589958\n",
            "Geração: 085 | adaptação: 53133.70268589958\n",
            "Geração: 086 | adaptação: 53133.70268589958\n",
            "Geração: 087 | adaptação: 53133.70268589958\n",
            "Geração: 088 | adaptação: 53133.70268589958\n",
            "Geração: 089 | adaptação: 53133.70268589958\n",
            "Geração: 090 | adaptação: 53133.70268589958\n",
            "Geração: 091 | adaptação: 53133.70268589958\n",
            "Geração: 092 | adaptação: 53133.70268589958\n",
            "Geração: 093 | adaptação: 53133.70268589958\n",
            "Geração: 094 | adaptação: 53133.70268589958\n",
            "Geração: 095 | adaptação: 53133.70268589958\n",
            "Geração: 096 | adaptação: 53133.70268589958\n",
            "Geração: 097 | adaptação: 53133.70268589958\n",
            "Geração: 098 | adaptação: 53133.70268589958\n",
            "Geração: 099 | adaptação: 53133.70268589958\n",
            "Geração: 100 | adaptação: 53133.70268589958\n",
            "Geração: 101 | adaptação: 53133.70268589958\n",
            "Geração: 102 | adaptação: 53133.70268589958\n",
            "Geração: 103 | adaptação: 53133.70268589958\n",
            "Geração: 104 | adaptação: 53133.70268589958\n",
            "Geração: 105 | adaptação: 53133.70268589958\n",
            "Geração: 106 | adaptação: 53133.70268589958\n",
            "Geração: 107 | adaptação: 53133.70268589958\n",
            "Geração: 108 | adaptação: 53133.70268589958\n",
            "Geração: 109 | adaptação: 53133.70268589958\n",
            "Geração: 110 | adaptação: 53133.70268589958\n",
            "Geração: 111 | adaptação: 53133.70268589958\n",
            "Geração: 112 | adaptação: 53133.70268589958\n",
            "Geração: 113 | adaptação: 53133.70268589958\n",
            "Geração: 114 | adaptação: 53133.70268589958\n",
            "Geração: 115 | adaptação: 53133.70268589958\n",
            "Geração: 116 | adaptação: 53133.70268589958\n",
            "Geração: 117 | adaptação: 53133.70268589958\n",
            "Geração: 118 | adaptação: 53133.70268589958\n",
            "Geração: 119 | adaptação: 53133.70268589958\n",
            "Geração: 120 | adaptação: 53133.70268589958\n",
            "Geração: 121 | adaptação: 53133.70268589958\n",
            "Geração: 122 | adaptação: 53133.70268589958\n",
            "Geração: 123 | adaptação: 53133.70268589958\n",
            "Geração: 124 | adaptação: 53133.70268589958\n",
            "Geração: 125 | adaptação: 53133.70268589958\n",
            "Geração: 126 | adaptação: 53133.70268589958\n",
            "Geração: 127 | adaptação: 53133.70268589958\n",
            "Geração: 128 | adaptação: 53133.70268589958\n",
            "Geração: 129 | adaptação: 53133.70268589958\n",
            "Geração: 130 | adaptação: 53133.70268589958\n",
            "Geração: 131 | adaptação: 53133.70268589958\n",
            "Geração: 132 | adaptação: 53133.70268589958\n",
            "Geração: 133 | adaptação: 53133.70268589958\n",
            "Geração: 134 | adaptação: 53133.70268589958\n",
            "Geração: 135 | adaptação: 53133.70268589958\n",
            "Geração: 136 | adaptação: 53133.70268589958\n",
            "Geração: 137 | adaptação: 53133.70268589958\n",
            "Geração: 138 | adaptação: 53133.70268589958\n",
            "Geração: 139 | adaptação: 53133.70268589958\n",
            "Geração: 140 | adaptação: 53133.70268589958\n",
            "Geração: 141 | adaptação: 53133.70268589958\n",
            "Geração: 142 | adaptação: 53133.70268589958\n",
            "Geração: 143 | adaptação: 53133.70268589958\n",
            "Geração: 144 | adaptação: 53133.70268589958\n",
            "Geração: 145 | adaptação: 53133.70268589958\n",
            "Geração: 146 | adaptação: 53133.70268589958\n",
            "Geração: 147 | adaptação: 53133.70268589958\n",
            "Geração: 148 | adaptação: 53133.70268589958\n",
            "Geração: 149 | adaptação: 53133.70268589958\n",
            "Geração: 150 | adaptação: 53133.70268589958\n",
            "Geração: 151 | adaptação: 53133.70268589958\n",
            "Geração: 152 | adaptação: 53133.70268589958\n",
            "Geração: 153 | adaptação: 53133.70268589958\n",
            "Geração: 154 | adaptação: 53133.70268589958\n",
            "Geração: 155 | adaptação: 53133.70268589958\n",
            "Geração: 156 | adaptação: 53133.70268589958\n",
            "Geração: 157 | adaptação: 53133.70268589958\n",
            "Geração: 158 | adaptação: 53133.70268589958\n",
            "Geração: 159 | adaptação: 53133.70268589958\n",
            "Geração: 160 | adaptação: 53133.70268589958\n",
            "Geração: 161 | adaptação: 53133.70268589958\n",
            "Geração: 162 | adaptação: 53133.70268589958\n",
            "Geração: 163 | adaptação: 53133.70268589958\n",
            "Geração: 164 | adaptação: 53133.70268589958\n",
            "Geração: 165 | adaptação: 53133.70268589958\n",
            "Geração: 166 | adaptação: 53133.70268589958\n",
            "Geração: 167 | adaptação: 53133.70268589958\n",
            "Geração: 168 | adaptação: 53133.70268589958\n",
            "Geração: 169 | adaptação: 53133.70268589958\n",
            "Geração: 170 | adaptação: 53133.70268589958\n",
            "Geração: 171 | adaptação: 53133.70268589958\n",
            "Geração: 172 | adaptação: 53133.70268589958\n",
            "Geração: 173 | adaptação: 53133.70268589958\n",
            "Geração: 174 | adaptação: 53133.70268589958\n",
            "Geração: 175 | adaptação: 53133.70268589958\n",
            "Geração: 176 | adaptação: 53133.70268589958\n",
            "Geração: 177 | adaptação: 53133.70268589958\n",
            "Geração: 178 | adaptação: 53133.70268589958\n",
            "Geração: 179 | adaptação: 53133.70268589958\n",
            "Geração: 180 | adaptação: 53133.70268589958\n",
            "Geração: 181 | adaptação: 53133.70268589958\n",
            "Geração: 182 | adaptação: 53133.70268589958\n",
            "Geração: 183 | adaptação: 53133.70268589958\n",
            "Geração: 184 | adaptação: 53133.70268589958\n",
            "Geração: 185 | adaptação: 53133.70268589958\n",
            "Geração: 186 | adaptação: 53133.70268589958\n",
            "Geração: 187 | adaptação: 53133.70268589958\n",
            "Geração: 188 | adaptação: 53133.70268589958\n",
            "Geração: 189 | adaptação: 53133.70268589958\n",
            "Geração: 190 | adaptação: 53133.70268589958\n",
            "Geração: 191 | adaptação: 53133.70268589958\n",
            "Geração: 192 | adaptação: 53133.70268589958\n",
            "Geração: 193 | adaptação: 53133.70268589958\n",
            "Geração: 194 | adaptação: 53133.70268589958\n",
            "Geração: 195 | adaptação: 53133.70268589958\n",
            "Geração: 196 | adaptação: 53133.70268589958\n",
            "Geração: 197 | adaptação: 53133.70268589958\n",
            "Geração: 198 | adaptação: 53133.70268589958\n",
            "Geração: 199 | adaptação: 53133.70268589958\n",
            "Geração: 200 | adaptação: 53133.70268589958\n",
            "Geração: 201 | adaptação: 53133.70268589958\n",
            "Geração: 202 | adaptação: 53133.70268589958\n",
            "Geração: 203 | adaptação: 53133.70268589958\n",
            "Geração: 204 | adaptação: 53133.70268589958\n",
            "Geração: 205 | adaptação: 53133.70268589958\n",
            "Geração: 206 | adaptação: 53133.70268589958\n",
            "Geração: 207 | adaptação: 53133.70268589958\n",
            "Geração: 208 | adaptação: 53133.70268589958\n",
            "Geração: 209 | adaptação: 53133.70268589958\n",
            "Geração: 210 | adaptação: 53133.70268589958\n",
            "Geração: 211 | adaptação: 53133.70268589958\n",
            "Geração: 212 | adaptação: 53133.70268589958\n",
            "Geração: 213 | adaptação: 53133.70268589958\n",
            "Geração: 214 | adaptação: 53133.70268589958\n",
            "Geração: 215 | adaptação: 53133.70268589958\n"
          ]
        }
      ],
      "source": [
        "contador_geracoes = itertools.count(start=1)\n",
        "\n",
        "melhor_solucao = None\n",
        "melhor_adaptacao = float('inf')\n",
        "\n",
        "ultima_melhor_adaptacao = float('inf')\n",
        "numero_geracoes_sem_melhora = 0\n",
        "\n",
        "# loop principal\n",
        "ini_gem = time.time()\n",
        "while True:\n",
        "\n",
        "    geracao = next(contador_geracoes)\n",
        "\n",
        "    adaptacao_populacao = [calcula_adaptacao(individuo) for individuo in populacao]\n",
        "\n",
        "    populacao, adaptacao_populacao = ordena_populacao(populacao, adaptacao_populacao)\n",
        "\n",
        "    melhor_adaptacao = adaptacao_populacao[0]\n",
        "    melhor_solucao = populacao[0]\n",
        "\n",
        "    # condição de parada\n",
        "    if melhor_adaptacao == ultima_melhor_adaptacao:\n",
        "        numero_geracoes_sem_melhora += 1\n",
        "    else:\n",
        "        numero_geracoes_sem_melhora = 0\n",
        "    ultima_melhor_adaptacao = melhor_adaptacao\n",
        "\n",
        "    # imprime a melhor adaptação\n",
        "    print(f\"Geração: {geracao:03d} | adaptação: {melhor_adaptacao}\")\n",
        "\n",
        "    # condição de saída\n",
        "    if geracao > MAXIMO_DE_GERACOES or numero_geracoes_sem_melhora >= NUMERO_GERACOES_SEM_MELHORA_MAXIMO:\n",
        "        break\n",
        "\n",
        "    # elitismo, o melhor individuo será mantido na próxima população\n",
        "    nova_populacao = [populacao[0]]\n",
        "\n",
        "    while len(nova_populacao) < TAMANHO_POPULACAO:\n",
        "        # seleção de ascendentes aleatória\n",
        "        #ascendente1, ascendente2 = seleciona_ascendentes_por_probabilidade(populacao, adaptacao_populacao)\n",
        "\n",
        "        # seleção de ascendentes por ranking\n",
        "        ascendente1, ascendente2 = seleciona_ascendentes_por_ranking(populacao, adaptacao_populacao)\n",
        "\n",
        "        # nascimento de dois novos indivíduos\n",
        "        descendente1, descendente2 = cruzamento(ascendente1, ascendente2)\n",
        "\n",
        "        # eventual mutação do indivíduo 1\n",
        "        descendente1 = mutacao_aleatoria(descendente1, PROBABILIDADE_DE_MUTACAO)\n",
        "        # eventual mutação do indivíduo 2\n",
        "        descendente2 = mutacao_embaralhamento(descendente2, PROBABILIDADE_DE_MUTACAO)\n",
        "\n",
        "        # incorpora os novos indivíduos à nova população\n",
        "        nova_populacao.append(descendente1)\n",
        "        nova_populacao.append(descendente2)\n",
        "\n",
        "    populacao = nova_populacao\n",
        "\n",
        "fim_gem = time.time()"
      ]
    },
    {
      "cell_type": "markdown",
      "metadata": {
        "id": "sitUZivfkTBS"
      },
      "source": [
        "# **Resultado do algorítmo genético**"
      ]
    },
    {
      "cell_type": "markdown",
      "metadata": {
        "id": "SRRw8khv_6T4"
      },
      "source": [
        "Faz uma busca reversa na lista de capitais para nos mostrar a rota encontrada e a distância total."
      ]
    },
    {
      "cell_type": "code",
      "execution_count": 46,
      "metadata": {
        "id": "g9jPiItNbtwG",
        "colab": {
          "base_uri": "https://localhost:8080/"
        },
        "outputId": "5d652cc9-30b5-426e-c7a2-bc30fec05ca6"
      },
      "outputs": [
        {
          "output_type": "stream",
          "name": "stdout",
          "text": [
            "Melhor Rota: Goiânia -> Rio de Janeiro -> Fortaleza -> Porto Alegre -> Salvador -> São Paulo -> Belo Horizonte -> Manaus -> Brasília -> Curitiba -> Palmas\n",
            "Distância Total:  53133.70268589958 km\n",
            "Tempo de execução: 4.089007616043091 segundos\n"
          ]
        }
      ],
      "source": [
        "# Mostrar a melhor solução\n",
        "nomes_capitais = list(capitais.keys())\n",
        "rota_ag = [nomes_capitais[localizacoes_cidades.index(cidade)] for cidade in melhor_solucao]\n",
        "print(\"Melhor Rota:\", \" -> \".join(rota_ag))\n",
        "distancia_total_alg_gem = melhor_adaptacao\n",
        "print(\"Distância Total: \", distancia_total_alg_gem, \"km\")\n",
        "print(f\"Tempo de execução: {fim_gem - ini_gem} segundos\")"
      ]
    },
    {
      "cell_type": "markdown",
      "metadata": {
        "id": "8Ga9t8U0nQJw"
      },
      "source": [
        "# **Resolvendo o problema com força bruta**"
      ]
    },
    {
      "cell_type": "markdown",
      "metadata": {
        "id": "rKZzVBbtAVby"
      },
      "source": [
        "Resolução do problema com \"força bruta\", testando diversas rotas até encontrar a melhor solução para o problema."
      ]
    },
    {
      "cell_type": "code",
      "execution_count": 47,
      "metadata": {
        "id": "31J4VHaey6pW"
      },
      "outputs": [],
      "source": [
        "# função para calcular a distância total de um percurso\n",
        "def calcular_distancia_total(percurso, cidades):\n",
        "    distancia_total = 0\n",
        "    for i in range(len(percurso) - 1):\n",
        "        distancia_total += calcula_distancia(cidades[percurso[i]], cidades[percurso[i + 1]])\n",
        "    # adiciona a distância de volta ao ponto de partida\n",
        "    distancia_total += calcula_distancia(cidades[percurso[-1]], cidades[percurso[0]])\n",
        "    return distancia_total"
      ]
    },
    {
      "cell_type": "code",
      "execution_count": 48,
      "metadata": {
        "id": "kuKsfZocbiaF"
      },
      "outputs": [],
      "source": [
        "# função para encontrar o percurso de menor distância usando força bruta\n",
        "def menor_percurso(cidades):\n",
        "    indices_cidades = list(range(len(cidades)))\n",
        "    melhor_percurso = None\n",
        "    menor_distancia = float('inf')\n",
        "\n",
        "    # gerar todas as permutações possíveis dos índices das cidades\n",
        "    cont = 0\n",
        "    for percurso in itertools.permutations(indices_cidades):\n",
        "        cont += 1\n",
        "        # calcular a distância total do percurso\n",
        "        distancia_atual = calcular_distancia_total(percurso, cidades)\n",
        "        if distancia_atual < menor_distancia:\n",
        "            menor_distancia = distancia_atual\n",
        "            melhor_percurso = percurso\n",
        "    print(cont)\n",
        "\n",
        "    return melhor_percurso, menor_distancia"
      ]
    },
    {
      "cell_type": "code",
      "execution_count": 49,
      "metadata": {
        "id": "yvEvd5IzbyR1",
        "colab": {
          "base_uri": "https://localhost:8080/"
        },
        "outputId": "6eea4a71-955d-487a-d369-098c1ca532b9"
      },
      "outputs": [
        {
          "output_type": "stream",
          "name": "stdout",
          "text": [
            "39916800\n"
          ]
        }
      ],
      "source": [
        "v_capitais = list(capitais.values())\n",
        "ini_fb = time.time()\n",
        "melhor_percurso, menor_distancia = menor_percurso(v_capitais)\n",
        "fim_fb = time.time()"
      ]
    },
    {
      "cell_type": "markdown",
      "metadata": {
        "id": "PDaaOKDtAKnD"
      },
      "source": [
        "Faz uma busca reversa na lista de capitais para nos mostrar a rota encontrada e a distância total."
      ]
    },
    {
      "cell_type": "code",
      "execution_count": 50,
      "metadata": {
        "id": "_L-k5AAufMZL",
        "colab": {
          "base_uri": "https://localhost:8080/"
        },
        "outputId": "c8b19c3f-9db1-4abe-c050-d3bdc41183a1"
      },
      "outputs": [
        {
          "output_type": "stream",
          "name": "stdout",
          "text": [
            "Melhor Rota: Manaus -> Belo Horizonte -> São Paulo -> Salvador -> Porto Alegre -> Fortaleza -> Rio de Janeiro -> Goiânia -> Palmas -> Curitiba -> Brasília\n",
            "Menor distância:  53133.702685899574 km\n",
            "Tempo de execução: 738.9720985889435 segundos\n"
          ]
        }
      ],
      "source": [
        "# Mostrar o menor percurso\n",
        "rota_fb = [nomes_capitais[indice_cidade] for indice_cidade in melhor_percurso]\n",
        "print(\"Melhor Rota:\", \" -> \".join(rota_fb))\n",
        "print(\"Menor distância: \", menor_distancia, \"km\")\n",
        "print(f\"Tempo de execução: {fim_fb - ini_fb} segundos\")"
      ]
    },
    {
      "cell_type": "markdown",
      "source": [
        "# **Conclusão**"
      ],
      "metadata": {
        "id": "iql5YlUJ5VgV"
      }
    },
    {
      "cell_type": "markdown",
      "metadata": {
        "id": "XbJP6V46nYNF"
      },
      "source": [
        "## **Comparação: Algorítmo Genético vs Força Bruta**"
      ]
    },
    {
      "cell_type": "code",
      "execution_count": 59,
      "metadata": {
        "id": "4jc3E3I9niHm",
        "colab": {
          "base_uri": "https://localhost:8080/"
        },
        "outputId": "32c1edda-9cb3-462b-c56b-6066aeca7eee"
      },
      "outputs": [
        {
          "output_type": "stream",
          "name": "stdout",
          "text": [
            "Tempo de execução do algoritmo genético: 4.089007616043091 segundos\n",
            "Melhor Rota do Algoritmo Genético: Goiânia -> Rio de Janeiro -> Fortaleza -> Porto Alegre -> Salvador -> São Paulo -> Belo Horizonte -> Manaus -> Brasília -> Curitiba -> Palmas\n",
            " ----------------------------------------------------------------------------------------------------------------------------------------------------------------------- \n",
            "Tempo de execução da força bruta: 738.9720985889435 segundos\n",
            "Melhor Rota da Força Bruta: Goiânia -> Rio de Janeiro -> Fortaleza -> Porto Alegre -> Salvador -> São Paulo -> Belo Horizonte -> Manaus -> Brasília -> Curitiba -> Palmas\n",
            " ----------------------------------------------------------------------------------------------------------------------------------------------------------------------- \n",
            "Diferença:  7.275957614183426e-12 km\n"
          ]
        }
      ],
      "source": [
        "# tempo do algoritmo genético\n",
        "print(f\"Tempo de execução do algoritmo genético: {fim_gem - ini_gem} segundos\")\n",
        "\n",
        "# rota do algoritmo genético\n",
        "print(\"Melhor Rota do Algoritmo Genético:\", \" -> \".join(rota_ag))\n",
        "\n",
        "print(\" ----------------------------------------------------------------------------------------------------------------------------------------------------------------------- \")\n",
        "\n",
        "# tempo da força bruta\n",
        "print(f\"Tempo de execução da força bruta: {fim_fb - ini_fb} segundos\")\n",
        "\n",
        "# rota da força bruta\n",
        "print(\"Melhor Rota da Força Bruta:\", \" -> \".join(rota_fb))\n",
        "\n",
        "print(\" ----------------------------------------------------------------------------------------------------------------------------------------------------------------------- \")\n",
        "\n",
        "# diferença em quilometros do algoritmo genético para o de força bruta\n",
        "acuracia_alg_gem = menor_distancia - distancia_total_alg_gem\n",
        "print(\"Diferença: \", abs(acuracia_alg_gem), \"km\")"
      ]
    },
    {
      "cell_type": "markdown",
      "metadata": {
        "id": "8eJrprFNAsIV"
      },
      "source": [
        "Podemos notar que existe uma diferença muito grande entre o tempo de execução do algoritmo genético e o tempo de execução da \"força bruta\".\n",
        "\n",
        "Olhando a diferença de distância entre as soluções (rotas) encontradas pelos dois métodos, podemos verificar que ela não existe, já que o algoritmo genético encontra a melhor rota neste conjunto de cidades. É importante destacar que nem sempre ele irá achar a melhor solução.\n",
        "\n",
        "O algoritmo genético é escrito e otimizado com o propósito de encontrar uma boa solução para o nosso problema da turnê em um tempo reduzido.\n",
        "Ele preza pela eficiência, nos permitindo encontrar uma solução otimizada em um tempo significativamente menor.\n",
        "\n",
        "O método de \"força bruta\" vai encontrar a melhor solução para o problema, mas para isso ele deve testar TODAS as soluções possíveis, o que pode demorar muito tempo e ter um grande custo computacional.\n",
        "Este tempo ainda é aumentado exponencialmente ao adicionarmos mais e mais cidades ao problema, o que pode tornar esse método extremamente custoso ou, em muitos casos, inviável."
      ]
    },
    {
      "cell_type": "markdown",
      "source": [
        "# **Considerações finais**\n"
      ],
      "metadata": {
        "id": "ke8vWAGOgJw0"
      }
    },
    {
      "cell_type": "markdown",
      "source": [
        "Neste experimento, o algoritmo genético é quase 100 vezes mais rápido que o método de força bruta.\n",
        "\n",
        "Ainda que o algoritmo genético não garanta ao usuário a solução exata para um problema em todos os casos, este experimento demonstra o seu poder de resolução diante de situações em que o método de força bruta possua elevado consumo de processamento computacional e tempo longo para as necessidades do cliente/usuário.\n",
        "\n",
        "O \"case\" explorado nesse notebook aborda um problema de tamanho pequeno, mas a busca de uma solução por algoritmo genético pode ser aplicada em muitos problemas grandes do dia-a-dia.\n",
        "\n",
        "Esse exemplo pode ser adaptado para planejar rotas de entrega de produtos, viagens de negócios, rotas de coleta de lixo, roteamente de ambulâncias, roteamente de equipes de inspeção, e várias outras aplicações em diversos setores onde a otimização de rotas é necessária."
      ],
      "metadata": {
        "id": "mMr7qvirem1f"
      }
    }
  ],
  "metadata": {
    "colab": {
      "provenance": []
    },
    "kernelspec": {
      "display_name": "Python 3",
      "name": "python3"
    },
    "language_info": {
      "name": "python"
    }
  },
  "nbformat": 4,
  "nbformat_minor": 0
}